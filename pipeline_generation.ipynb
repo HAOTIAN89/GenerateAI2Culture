{
 "cells": [
  {
   "cell_type": "code",
   "execution_count": 1,
   "id": "2880e6bf-fbbc-441e-817b-63f3131be192",
   "metadata": {},
   "outputs": [],
   "source": [
    "import json\n",
    "import numpy as np\n",
    "import torch"
   ]
  },
  {
   "cell_type": "code",
   "execution_count": 2,
   "id": "4455eb3f-e04a-422d-88bb-57b694a7a906",
   "metadata": {},
   "outputs": [],
   "source": [
    "def load_json(file_path):\n",
    "    with open(file_path, 'r') as file:\n",
    "        data = json.load(file)\n",
    "    return data"
   ]
  },
  {
   "cell_type": "code",
   "execution_count": 5,
   "id": "5ab8d403-09d5-4e70-a329-fe1b82c59ddc",
   "metadata": {},
   "outputs": [],
   "source": [
    "# read the data\n",
    "json_file_path1 = \"generation_images.json\"\n",
    "json_file_path2 = \"generation_text.json\"\n",
    "json_file_path3 = \"generation_audio.json\"\n",
    "image_dict = load_json(json_file_path1)\n",
    "text_dict = load_json(json_file_path2)\n",
    "audio_dict = load_json(json_file_path3)"
   ]
  },
  {
   "cell_type": "code",
   "execution_count": 6,
   "id": "5c9244a9-5cbe-4fed-8c71-55f221b13c95",
   "metadata": {},
   "outputs": [
    {
     "name": "stdout",
     "output_type": "stream",
     "text": [
      "25\n",
      "17\n",
      "8\n"
     ]
    }
   ],
   "source": [
    "print(len(image_dict))\n",
    "print(len(text_dict))\n",
    "print(len(audio_dict))"
   ]
  },
  {
   "cell_type": "code",
   "execution_count": 8,
   "id": "9d5c0984-a630-440b-b2c5-59e3b810bc6b",
   "metadata": {},
   "outputs": [
    {
     "data": {
      "text/plain": [
       "dict_keys(['instrument1.jpg', 'food26.jpg', 'food27.jpg', 'food25.jpg', 'instrument2.jpg', 'food31.jpg', 'instrument3.jpg', 'food30.jpg', 'instrument7.jpg', 'instrument6.jpg', 'instrument4.jpg', 'instrument5.jpg', 'clothing5.jpg', 'clothing4.jpg', 'clothing6.jpg', 'chinese_newyear_hotpot.jpg', 'bird.jpg', 'clothing3.jpg', 'clothing2.jpg', 'clothing1.jpg', 'painting12.jpg', 'painting10.jpg', 'painting11.jpg', 'food29.jpg', 'food28.jpg'])"
      ]
     },
     "execution_count": 8,
     "metadata": {},
     "output_type": "execute_result"
    }
   ],
   "source": [
    "image_dict.keys()"
   ]
  },
  {
   "cell_type": "code",
   "execution_count": 9,
   "id": "95d27380-9fe5-4f5c-9dfa-737658c16e74",
   "metadata": {},
   "outputs": [
    {
     "data": {
      "text/plain": [
       "dict_keys(['chinese newyear hotpot', 'Indian family gathering eating traditional Indian cuisine. Introduce elements like a plate of Basmati rice, a bowl of rich, creamy Dal Makhani, vibrant vegetable Biryani, and freshly baked Naan bread. Decorate with garnishes like coriander leaves and slices of lemon', 'Jpanese family gathering eating traditional Japanese cuisine. Introduce elements like a plate of sushi and a bowl of ramen', 'Imagine a cozy Japanese family gathering in a traditional Japanese dining setting. The family members are seated around a low wooden dining table, comfortably settled on cushioned seating. The table is adorned with an array of exquisite Japanese dishes: a colorful plate of sushi, featuring delectable tuna, salmon, and cucumber rolls; alongside, a steaming bowl of ramen emits an inviting aroma, filled with tender slices of chashu pork, boiled eggs, green vegetables, and soft noodles. Traditional Japanese paintings hang on the walls, contributing to a warm and harmonious atmosphere. The family members are smiling, enjoying the delicious food and the joyous moments of togetherness', 'Imagine a cozy Japanese family gathering in a traditional Japanese dining setting', \"Envision a lively Mexican family gathering, embracing the rich culinary traditions of Mexico. The family is congregated around a large, rustic wooden table in a vibrantly decorated room, echoing the spirit of Mexican culture. The table is a feast for the eyes, laden with traditional Mexican fare: a large, colorful bowl of homemade guacamole, surrounded by crispy tortilla chips; steaming plates of tacos filled with seasoned carne asada, fresh lettuce, diced tomatoes, and topped with melting cheese; a pot of aromatic, spicy black bean soup garnished with cilantro; and a pitcher of refreshing agua fresca with slices of lime and watermelon. Brightly colored papel picado banners flutter overhead, adding to the festive atmosphere. Laughter and lively conversation fill the air as the family enjoys the delicious flavors and the warmth of each other's company\", 'Envision a lively Mexican family gathering, embracing the rich culinary traditions of Mexico', 'Korean families are sitting at tables, enjoying crispy Korean fried chicken and various side dishes like kimchi and pickled radishes', 'a oil painting', 'a Chinese traditional freehand brushwork landscape painting', 'a rococo style oil painting', 'a chinese emporer of Qing Dynasty wearing Qing Clothing', 'clothing of a chinese emporer of Qing Dynasty', \"a cloth during China's Qing Dynasty\", 'korean traditonal clothing', 'Japanese traditonal clothing', 'Mexican traditonal clothing'])"
      ]
     },
     "execution_count": 9,
     "metadata": {},
     "output_type": "execute_result"
    }
   ],
   "source": [
    "text_dict.keys()"
   ]
  },
  {
   "cell_type": "code",
   "execution_count": 10,
   "id": "3bc3942a-5693-4d19-ac4a-369e1ff6fea4",
   "metadata": {},
   "outputs": [
    {
     "data": {
      "text/plain": [
       "dict_keys(['instrument-chinese-percussion-drum-1.wav', 'instrument-europea-keyboard-piano-1.wav', 'instrument-chinese-blowing-flute-1.wav', 'instrument-south-precussion-congadrum-1.wav', 'instrument-chinese-blowing-suona-1.wav', 'bird_audio.wav', 'instrument-europea-string-cello-1.wav', 'instrument-chinese-string-erhu-1.wav'])"
      ]
     },
     "execution_count": 10,
     "metadata": {},
     "output_type": "execute_result"
    }
   ],
   "source": [
    "audio_dict.keys()"
   ]
  },
  {
   "cell_type": "code",
   "execution_count": 11,
   "id": "66b8af75-4824-4fcf-81f0-eb910a58f6bf",
   "metadata": {},
   "outputs": [],
   "source": [
    "result = dict()\n",
    "\n",
    "image_embeddings = list(image_dict.values())\n",
    "image_embeddings_all = torch.cat([torch.tensor(image_embeddings[i]) for i in range(len(image_embeddings))])\n",
    "\n",
    "for key, value in text_dict.items():\n",
    "    query_embeddings = torch.tensor(value)\n",
    "    scores = torch.softmax(image_embeddings_all @ query_embeddings.T, dim=0)\n",
    "    max_index = torch.argmax(scores)\n",
    "    best_match = list(image_dict.keys())[max_index]\n",
    "    result[key] = best_match"
   ]
  },
  {
   "cell_type": "code",
   "execution_count": 12,
   "id": "96aa9124-134e-43a0-bcb7-21e829657415",
   "metadata": {},
   "outputs": [
    {
     "data": {
      "text/plain": [
       "{'chinese newyear hotpot': 'chinese_newyear_hotpot.jpg',\n",
       " 'Indian family gathering eating traditional Indian cuisine. Introduce elements like a plate of Basmati rice, a bowl of rich, creamy Dal Makhani, vibrant vegetable Biryani, and freshly baked Naan bread. Decorate with garnishes like coriander leaves and slices of lemon': 'food25.jpg',\n",
       " 'Jpanese family gathering eating traditional Japanese cuisine. Introduce elements like a plate of sushi and a bowl of ramen': 'chinese_newyear_hotpot.jpg',\n",
       " 'Imagine a cozy Japanese family gathering in a traditional Japanese dining setting. The family members are seated around a low wooden dining table, comfortably settled on cushioned seating. The table is adorned with an array of exquisite Japanese dishes: a colorful plate of sushi, featuring delectable tuna, salmon, and cucumber rolls; alongside, a steaming bowl of ramen emits an inviting aroma, filled with tender slices of chashu pork, boiled eggs, green vegetables, and soft noodles. Traditional Japanese paintings hang on the walls, contributing to a warm and harmonious atmosphere. The family members are smiling, enjoying the delicious food and the joyous moments of togetherness': 'instrument4.jpg',\n",
       " 'Imagine a cozy Japanese family gathering in a traditional Japanese dining setting': 'food27.jpg',\n",
       " \"Envision a lively Mexican family gathering, embracing the rich culinary traditions of Mexico. The family is congregated around a large, rustic wooden table in a vibrantly decorated room, echoing the spirit of Mexican culture. The table is a feast for the eyes, laden with traditional Mexican fare: a large, colorful bowl of homemade guacamole, surrounded by crispy tortilla chips; steaming plates of tacos filled with seasoned carne asada, fresh lettuce, diced tomatoes, and topped with melting cheese; a pot of aromatic, spicy black bean soup garnished with cilantro; and a pitcher of refreshing agua fresca with slices of lime and watermelon. Brightly colored papel picado banners flutter overhead, adding to the festive atmosphere. Laughter and lively conversation fill the air as the family enjoys the delicious flavors and the warmth of each other's company\": 'instrument4.jpg',\n",
       " 'Envision a lively Mexican family gathering, embracing the rich culinary traditions of Mexico': 'food30.jpg',\n",
       " 'Korean families are sitting at tables, enjoying crispy Korean fried chicken and various side dishes like kimchi and pickled radishes': 'food31.jpg',\n",
       " 'a oil painting': 'painting12.jpg',\n",
       " 'a Chinese traditional freehand brushwork landscape painting': 'painting10.jpg',\n",
       " 'a rococo style oil painting': 'painting10.jpg',\n",
       " 'a chinese emporer of Qing Dynasty wearing Qing Clothing': 'clothing1.jpg',\n",
       " 'clothing of a chinese emporer of Qing Dynasty': 'clothing1.jpg',\n",
       " \"a cloth during China's Qing Dynasty\": 'clothing2.jpg',\n",
       " 'korean traditonal clothing': 'clothing4.jpg',\n",
       " 'Japanese traditonal clothing': 'clothing5.jpg',\n",
       " 'Mexican traditonal clothing': 'clothing6.jpg'}"
      ]
     },
     "execution_count": 12,
     "metadata": {},
     "output_type": "execute_result"
    }
   ],
   "source": [
    "result"
   ]
  },
  {
   "cell_type": "code",
   "execution_count": 13,
   "id": "2b6143fa-70c9-4660-a0ac-9c2fc7b8fad6",
   "metadata": {},
   "outputs": [],
   "source": [
    "result = dict()\n",
    "\n",
    "image_embeddings = list(image_dict.values())\n",
    "image_embeddings_all = torch.cat([torch.tensor(image_embeddings[i]) for i in range(len(image_embeddings))])\n",
    "\n",
    "for key, value in audio_dict.items():\n",
    "    query_embeddings = torch.tensor(value)\n",
    "    scores = torch.softmax(image_embeddings_all @ query_embeddings.T, dim=0)\n",
    "    max_index = torch.argmax(scores)\n",
    "    best_match = list(image_dict.keys())[max_index]\n",
    "    result[key] = best_match"
   ]
  },
  {
   "cell_type": "code",
   "execution_count": 14,
   "id": "acd0ae16-d356-4ddc-821b-5816ab49a8e5",
   "metadata": {},
   "outputs": [
    {
     "data": {
      "text/plain": [
       "{'instrument-chinese-percussion-drum-1.wav': 'instrument3.jpg',\n",
       " 'instrument-europea-keyboard-piano-1.wav': 'instrument5.jpg',\n",
       " 'instrument-chinese-blowing-flute-1.wav': 'instrument2.jpg',\n",
       " 'instrument-south-precussion-congadrum-1.wav': 'bird.jpg',\n",
       " 'instrument-chinese-blowing-suona-1.wav': 'instrument5.jpg',\n",
       " 'bird_audio.wav': 'bird.jpg',\n",
       " 'instrument-europea-string-cello-1.wav': 'instrument6.jpg',\n",
       " 'instrument-chinese-string-erhu-1.wav': 'clothing1.jpg'}"
      ]
     },
     "execution_count": 14,
     "metadata": {},
     "output_type": "execute_result"
    }
   ],
   "source": [
    "result"
   ]
  },
  {
   "cell_type": "code",
   "execution_count": null,
   "id": "357ea1ba-cf0d-47aa-a1b5-6d7eca85e252",
   "metadata": {},
   "outputs": [],
   "source": []
  }
 ],
 "metadata": {
  "kernelspec": {
   "display_name": "Python 3 (ipykernel)",
   "language": "python",
   "name": "python3"
  },
  "language_info": {
   "codemirror_mode": {
    "name": "ipython",
    "version": 3
   },
   "file_extension": ".py",
   "mimetype": "text/x-python",
   "name": "python",
   "nbconvert_exporter": "python",
   "pygments_lexer": "ipython3",
   "version": "3.8.18"
  }
 },
 "nbformat": 4,
 "nbformat_minor": 5
}
