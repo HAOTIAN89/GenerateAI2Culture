{
 "cells": [
  {
   "cell_type": "code",
   "execution_count": 1,
   "id": "c0f5afd1-57c7-4fd1-aa05-d0bee7cb9b70",
   "metadata": {},
   "outputs": [],
   "source": [
    "import json\n",
    "import numpy as np\n",
    "import torch"
   ]
  },
  {
   "cell_type": "code",
   "execution_count": 2,
   "id": "81609495-dd2a-4f5b-aa6c-5674db7f8c6e",
   "metadata": {},
   "outputs": [],
   "source": [
    "def load_json(file_path):\n",
    "    with open(file_path, 'r') as file:\n",
    "        data = json.load(file)\n",
    "    return data"
   ]
  },
  {
   "cell_type": "code",
   "execution_count": 5,
   "id": "2e0d6228-8354-4319-9a81-60d362d0b676",
   "metadata": {},
   "outputs": [],
   "source": [
    "# read the data\n",
    "json_file_path1 = \"generation_images.json\"\n",
    "json_file_path2 = \"search_paintings.json\"\n",
    "json_file_path3 = \"search_instruments.json\"\n",
    "json_file_path4 = \"search_clothing_time.json\"\n",
    "json_file_path5 = \"search_area.json\"\n",
    "image_dict = load_json(json_file_path1)\n",
    "origin1_dict = load_json(json_file_path2)\n",
    "origin2_dict = load_json(json_file_path3)\n",
    "origin3_dict = load_json(json_file_path4)\n",
    "origin4_dict = load_json(json_file_path5)"
   ]
  },
  {
   "cell_type": "code",
   "execution_count": 8,
   "id": "fecdf049-edac-42cb-8d8e-33a5e4836253",
   "metadata": {},
   "outputs": [
    {
     "name": "stdout",
     "output_type": "stream",
     "text": [
      "25\n",
      "54\n",
      "30\n",
      "21\n",
      "125\n"
     ]
    }
   ],
   "source": [
    "print(len(image_dict))\n",
    "print(len(origin1_dict))\n",
    "print(len(origin2_dict))\n",
    "print(len(origin3_dict))\n",
    "print(len(origin4_dict))"
   ]
  },
  {
   "cell_type": "code",
   "execution_count": 9,
   "id": "daca1caf-9025-4b34-b992-c9dd7dec2031",
   "metadata": {},
   "outputs": [],
   "source": [
    "for key, value in origin2_dict.items():\n",
    "    origin1_dict[key] = value\n",
    "for key, value in origin3_dict.items():\n",
    "    origin1_dict[key] = value\n",
    "for key, value in origin4_dict.items():\n",
    "    origin1_dict[key] = value"
   ]
  },
  {
   "cell_type": "code",
   "execution_count": 10,
   "id": "bbceb3b3-dcc2-46ac-8c33-bdd60db6171e",
   "metadata": {},
   "outputs": [
    {
     "name": "stdout",
     "output_type": "stream",
     "text": [
      "230\n"
     ]
    }
   ],
   "source": [
    "print(len(origin1_dict))"
   ]
  },
  {
   "cell_type": "code",
   "execution_count": 13,
   "id": "4034b0cd-be64-4494-ac60-7c0fc70d37c2",
   "metadata": {},
   "outputs": [],
   "source": [
    "result = dict()\n",
    "\n",
    "image_embeddings = list(origin1_dict.values())\n",
    "image_embeddings_all = torch.cat([torch.tensor(image_embeddings[i]) for i in range(len(image_embeddings))])\n",
    "\n",
    "for key, value in image_dict.items():\n",
    "    query_embeddings = torch.tensor(value)\n",
    "    scores = torch.softmax(image_embeddings_all @ query_embeddings.T, dim=0)\n",
    "    max_index = torch.argmax(scores)\n",
    "    best_match = list(origin1_dict.keys())[max_index]\n",
    "    result[key] = best_match"
   ]
  },
  {
   "cell_type": "code",
   "execution_count": 14,
   "id": "2b20545d-ac8a-461b-8e88-d88138a8df6f",
   "metadata": {},
   "outputs": [
    {
     "data": {
      "text/plain": [
       "{'instrument1.jpg': 'food-Americas-11.jpg',\n",
       " 'food26.jpg': 'food-European-4.jpg',\n",
       " 'food27.jpg': 'food-European-4.jpg',\n",
       " 'food25.jpg': 'food-MiddleEastern-15.jpg',\n",
       " 'instrument2.jpg': 'clothing-European-7.jpg',\n",
       " 'food31.jpg': 'food-Asia-26.jpg',\n",
       " 'instrument3.jpg': 'painting-sketching-2.jpg',\n",
       " 'food30.jpg': 'food-European-4.jpg',\n",
       " 'instrument7.jpg': 'food-MiddleEastern-19.jpg',\n",
       " 'instrument6.jpg': 'clothing-medieval-4.jpg',\n",
       " 'instrument4.jpg': 'clothing-medieval-4.jpg',\n",
       " 'instrument5.jpg': 'food-MiddleEastern-19.jpg',\n",
       " 'clothing5.jpg': 'clothing-Asian-5.jpg',\n",
       " 'clothing4.jpg': 'clothing-Asian-3.jpg',\n",
       " 'clothing6.jpg': 'clothing-Asian-1.jpg',\n",
       " 'chinese_newyear_hotpot.jpg': 'food-European-4.jpg',\n",
       " 'bird.jpg': 'food-MiddleEastern-2.jpg',\n",
       " 'clothing3.jpg': 'clothing-ancient-4.jpg',\n",
       " 'clothing2.jpg': 'clothing-medieval-1.jpg',\n",
       " 'clothing1.jpg': 'clothing-17thto19thCentury-1.jpg',\n",
       " 'painting12.jpg': 'painting-oil-impressionism-10.jpg',\n",
       " 'painting10.jpg': 'instrument-Chinese-blowing-flute-1.jpg',\n",
       " 'painting11.jpg': 'painting-oil-impressionism-10.jpg',\n",
       " 'food29.jpg': 'food-European-4.jpg',\n",
       " 'food28.jpg': 'food-European-4.jpg'}"
      ]
     },
     "execution_count": 14,
     "metadata": {},
     "output_type": "execute_result"
    }
   ],
   "source": [
    "result"
   ]
  },
  {
   "cell_type": "code",
   "execution_count": null,
   "id": "a6425780-ebda-4baf-90e2-c12ec2ec8060",
   "metadata": {},
   "outputs": [],
   "source": []
  }
 ],
 "metadata": {
  "kernelspec": {
   "display_name": "Python 3 (ipykernel)",
   "language": "python",
   "name": "python3"
  },
  "language_info": {
   "codemirror_mode": {
    "name": "ipython",
    "version": 3
   },
   "file_extension": ".py",
   "mimetype": "text/x-python",
   "name": "python",
   "nbconvert_exporter": "python",
   "pygments_lexer": "ipython3",
   "version": "3.8.18"
  }
 },
 "nbformat": 4,
 "nbformat_minor": 5
}
