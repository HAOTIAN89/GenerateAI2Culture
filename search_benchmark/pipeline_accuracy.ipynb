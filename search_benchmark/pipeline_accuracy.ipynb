{
 "cells": [
  {
   "cell_type": "code",
   "execution_count": 3,
   "id": "565ceffd-2844-4ebb-80c3-5c4462f47096",
   "metadata": {},
   "outputs": [],
   "source": [
    "import json\n",
    "import numpy as np\n",
    "import torch"
   ]
  },
  {
   "cell_type": "code",
   "execution_count": 4,
   "id": "f05c2c06-0e75-42dc-9cb0-573045fbb9da",
   "metadata": {},
   "outputs": [],
   "source": [
    "def load_json(file_path):\n",
    "    with open(file_path, 'r') as file:\n",
    "        data = json.load(file)\n",
    "    return data"
   ]
  },
  {
   "cell_type": "markdown",
   "id": "fc556c04-73c0-49bd-adb9-e0803531d414",
   "metadata": {},
   "source": [
    "### painting dataset ###"
   ]
  },
  {
   "cell_type": "code",
   "execution_count": 5,
   "id": "77f5f197-6c94-4fd4-a107-d7cffbd92ad4",
   "metadata": {},
   "outputs": [],
   "source": [
    "# read the data\n",
    "json_file_path1 = \"search_paintings.json\"\n",
    "json_file_path2 = \"search_text_paintings.json\"\n",
    "image_dict = load_json(json_file_path1)\n",
    "text_dict = load_json(json_file_path2)"
   ]
  },
  {
   "cell_type": "code",
   "execution_count": 6,
   "id": "e105f75f-969d-4c5a-8308-27c5b1d9496b",
   "metadata": {},
   "outputs": [
    {
     "name": "stdout",
     "output_type": "stream",
     "text": [
      "54\n",
      "6\n"
     ]
    }
   ],
   "source": [
    "print(len(image_dict))\n",
    "print(len(text_dict))"
   ]
  },
  {
   "cell_type": "code",
   "execution_count": 7,
   "id": "e4be1daa-dbc6-4ab9-8dac-8a0393e15973",
   "metadata": {},
   "outputs": [],
   "source": [
    "result = dict()\n",
    "\n",
    "image_embeddings = list(image_dict.values())\n",
    "image_embeddings_all = torch.cat([torch.tensor(image_embeddings[i]) for i in range(len(image_embeddings))])\n",
    "\n",
    "for key, value in text_dict.items():\n",
    "    query_embeddings = torch.tensor(value)\n",
    "    scores = torch.softmax(image_embeddings_all @ query_embeddings.T, dim=0)\n",
    "    max_index = torch.argmax(scores)\n",
    "    best_match = list(image_dict.keys())[max_index]\n",
    "    result[key] = best_match"
   ]
  },
  {
   "cell_type": "code",
   "execution_count": 8,
   "id": "71cdf41d-998e-4c3b-a6ef-e30f3b0ab43b",
   "metadata": {},
   "outputs": [
    {
     "data": {
      "text/plain": [
       "{'a rococo oil painting': 'painting-oil-rococo-6.jpg',\n",
       " 'a baroque oil painting': 'painting-oil-baroque-6.jpg',\n",
       " 'a impressionism oil painting': 'painting-oil-impressionism-6.jpg',\n",
       " 'a renaissance oil painting': 'painting-oil-renaissance-10.jpg',\n",
       " 'a romanticism oil painting': 'painting-oil-romanticism-10.jpg',\n",
       " 'a sketch': 'painting-oil-impressionism-3.jpg'}"
      ]
     },
     "execution_count": 8,
     "metadata": {},
     "output_type": "execute_result"
    }
   ],
   "source": [
    "result"
   ]
  },
  {
   "cell_type": "code",
   "execution_count": 9,
   "id": "74873302-98d9-4c76-bd6c-93a8789f2d6a",
   "metadata": {},
   "outputs": [],
   "source": [
    "result_new = dict()\n",
    "\n",
    "image_embeddings = list(image_dict.values())\n",
    "image_embeddings_all = torch.cat([torch.tensor(image_embeddings[i]) for i in range(len(image_embeddings))])\n",
    "\n",
    "for key, value in text_dict.items():\n",
    "    query_embeddings = torch.tensor(value)\n",
    "    scores = torch.softmax(image_embeddings_all @ query_embeddings.T, dim=0)\n",
    "    # Get the indices of the top 3 values\n",
    "    top_indices = torch.topk(scores.flatten(), k=3, dim=0).indices.tolist()\n",
    "    # Get the corresponding image names\n",
    "    best_matches = [list(image_dict.keys())[index] for index in top_indices]\n",
    "    result_new[key] = best_matches"
   ]
  },
  {
   "cell_type": "code",
   "execution_count": 10,
   "id": "9e425098-c545-400b-b759-ecca8bd6023e",
   "metadata": {},
   "outputs": [
    {
     "data": {
      "text/plain": [
       "{'a rococo oil painting': ['painting-oil-rococo-6.jpg',\n",
       "  'painting-oil-rococo-5.jpg',\n",
       "  'painting-oil-baroque-6.jpg'],\n",
       " 'a baroque oil painting': ['painting-oil-baroque-6.jpg',\n",
       "  'painting-oil-rococo-6.jpg',\n",
       "  'painting-oil-baroque-5.jpg'],\n",
       " 'a impressionism oil painting': ['painting-oil-impressionism-6.jpg',\n",
       "  'painting-oil-impressionism-2.jpg',\n",
       "  'painting-oil-impressionism-10.jpg'],\n",
       " 'a renaissance oil painting': ['painting-oil-renaissance-10.jpg',\n",
       "  'painting-oil-baroque-6.jpg',\n",
       "  'painting-oil-renaissance-6.jpg'],\n",
       " 'a romanticism oil painting': ['painting-oil-romanticism-10.jpg',\n",
       "  'painting-oil-romanticism-3.jpg',\n",
       "  'painting-oil-romanticism-9.jpg'],\n",
       " 'a sketch': ['painting-oil-impressionism-3.jpg',\n",
       "  'painting-oil-rococo-6.jpg',\n",
       "  'painting-oil-impressionism-7.jpg']}"
      ]
     },
     "execution_count": 10,
     "metadata": {},
     "output_type": "execute_result"
    }
   ],
   "source": [
    "result_new"
   ]
  },
  {
   "cell_type": "markdown",
   "id": "e7c099c8-5d81-45a7-9fd3-7a3431d60e93",
   "metadata": {},
   "source": [
    "### instrument dataset ###"
   ]
  },
  {
   "cell_type": "code",
   "execution_count": 11,
   "id": "3e7fd7ee-8835-4117-ab13-37607cc29e13",
   "metadata": {},
   "outputs": [],
   "source": [
    "# read the data\n",
    "json_file_path1 = \"search_instruments.json\"\n",
    "json_file_path2 = \"search_audio_instruments.json\"\n",
    "image_dict = load_json(json_file_path1)\n",
    "text_dict = load_json(json_file_path2)"
   ]
  },
  {
   "cell_type": "code",
   "execution_count": 12,
   "id": "b835fbbc-c0b6-440a-bba6-5d2e4b6b7da1",
   "metadata": {},
   "outputs": [
    {
     "name": "stdout",
     "output_type": "stream",
     "text": [
      "30\n",
      "30\n"
     ]
    }
   ],
   "source": [
    "print(len(image_dict))\n",
    "print(len(text_dict))"
   ]
  },
  {
   "cell_type": "code",
   "execution_count": 13,
   "id": "d4d00ce2-959e-43ab-b84e-3a720e543ab9",
   "metadata": {},
   "outputs": [],
   "source": [
    "result = dict()\n",
    "\n",
    "image_embeddings = list(image_dict.values())\n",
    "image_embeddings_all = torch.cat([torch.tensor(image_embeddings[i]) for i in range(len(image_embeddings))])\n",
    "\n",
    "for key, value in text_dict.items():\n",
    "    query_embeddings = torch.tensor(value)\n",
    "    scores = torch.softmax(image_embeddings_all @ query_embeddings.T, dim=0)\n",
    "    max_index = torch.argmax(scores)\n",
    "    best_match = list(image_dict.keys())[max_index]\n",
    "    result[key] = best_match"
   ]
  },
  {
   "cell_type": "code",
   "execution_count": 14,
   "id": "27f1f3d3-72fa-4116-be01-90e084778f95",
   "metadata": {},
   "outputs": [
    {
     "data": {
      "text/plain": [
       "{'instrument-SouthAmerica-string-cuato-1.wav': 'instrument-Chinese-string-dulcimer-1.jpg',\n",
       " 'instrument-SouthAmerica-percussion-marimba-1.wav': 'instrument-SouthAmerica-percussion-marimba-1.jpg',\n",
       " 'instrument-Chinese-percussion-drum-1.wav': 'instrument-Chinese-string-gaohu-1.jpg',\n",
       " 'instrument-Europea-woodwind-flute-1.wav': 'instrument-Europea-woodwind-flute-1.jpg',\n",
       " 'instrument-Europea-keyboard-piano-1.wav': 'instrument-Europea-keyboard-piano-1.jpg',\n",
       " 'instrument-Europea-brass-trumpet-1.wav': 'instrument-Europea-brass-trombone-1.jpg',\n",
       " 'instrument-Chinese-blowing-flute-1.wav': 'instrument-Europea-woodwind-oboe-1.jpg',\n",
       " 'instrument-Chinese-percussion-gongs-1.wav': 'instrument-Chinese-percussion-gongs-1.jpg',\n",
       " 'instrument-Chinese-string-harp-1.wav': 'instrument-Chinese-string-guzheng-1.jpg',\n",
       " 'instrument-Chinese-string-dulcimer-1.wav': 'instrument-Chinese-string-dulcimer-1.jpg',\n",
       " 'instrument-Europea-string-harp-1.wav': 'instrument-Chinese-string-harp-1.jpg',\n",
       " 'instrument-Chinese-blowing-suona-1.wav': 'instrument-Europea-string-violin-1.jpg',\n",
       " 'instrument-Europea-woodwind-oboe-1.wav': 'instrument-Europea-woodwind-clarinet-1.jpg',\n",
       " 'instrument-SouthAmerica-blowing-panflute-1.wav': 'instrument-Chinese-blowing-flute-1.jpg',\n",
       " 'instrument-SouthAmerica-blowing-saxophone-1.wav': 'instrument-SouthAmerica-blowing-saxophone-1.jpg',\n",
       " 'instrument-SouthAmerica-string-bajo-1.wav': 'instrument-SouthAmerica-string-bajo-1.jpg',\n",
       " 'instrument-Europea-woodwind-clarinet-1.wav': 'instrument-Europea-woodwind-oboe-1.jpg',\n",
       " 'instrument-Chinese-percussion-woodenfish-1.wav': 'instrument-SouthAmerica-blowing-panflute-1.jpg',\n",
       " 'instrument-Europea-string-violin-1.wav': 'instrument-Europea-string-violin-1.jpg',\n",
       " 'instrument-Chinese-string-gaohu-1.wav': 'instrument-Europea-string-violin-1.jpg',\n",
       " 'instrument-Europea-brass-trombone-1.wav': 'instrument-Europea-brass-trombone-1.jpg',\n",
       " 'instrument-SouthAmerica-precussion-congadrum-1.wav': 'instrument-SouthAmerica-precussion-congadrum-1.jpg',\n",
       " 'instrument-Chinese-blowing-xiao-1.wav': 'instrument-Chinese-blowing-flute-1.jpg',\n",
       " 'instrument-Chinese-string-pipa-1.wav': 'instrument-Chinese-string-pipa-1.jpg',\n",
       " 'instrument-Europea-string-cello-1.wav': 'instrument-Europea-string-cello-1.jpg',\n",
       " 'instrument-Chinese-string-guzheng-1.wav': 'instrument-Chinese-string-guzheng-1.jpg',\n",
       " 'instrument-Europea-brass-horn-1.wav': 'instrument-Europea-brass-horn-1.jpg',\n",
       " 'instrument-Europea-keyboard-organ-1.wav': 'instrument-Europea-keyboard-organ-1.jpg',\n",
       " 'instrument-Europea-string-guitar-1.wav': 'instrument-Europea-string-guitar-1.jpg',\n",
       " 'instrument-Chinese-string-erhu-1.wav': 'instrument-Chinese-blowing-flute-1.jpg'}"
      ]
     },
     "execution_count": 14,
     "metadata": {},
     "output_type": "execute_result"
    }
   ],
   "source": [
    "result"
   ]
  },
  {
   "cell_type": "code",
   "execution_count": 16,
   "id": "5a074fc3-5a00-49b4-a5d5-9c014591ee68",
   "metadata": {},
   "outputs": [],
   "source": [
    "total = 30\n",
    "area = 0\n",
    "style = 0\n",
    "name = 0\n",
    "\n",
    "for key, value in result.items():\n",
    "    key_pool = key.split('-')\n",
    "    value_pool = value.split('-')\n",
    "    if key_pool[1] == value_pool[1]:\n",
    "        area += 1\n",
    "    if key_pool[2] == value_pool[2]:\n",
    "        style += 1\n",
    "    if key_pool[1] == value_pool[1] and key_pool[2] == value_pool[2] and key_pool[3] == value_pool[3]:\n",
    "        name += 1"
   ]
  },
  {
   "cell_type": "code",
   "execution_count": 17,
   "id": "738f9e13-9c2d-4b76-bbfe-6cc6a47115dd",
   "metadata": {},
   "outputs": [
    {
     "name": "stdout",
     "output_type": "stream",
     "text": [
      "23\n",
      "25\n",
      "16\n"
     ]
    }
   ],
   "source": [
    "print(area)\n",
    "print(style)\n",
    "print(name)"
   ]
  },
  {
   "cell_type": "code",
   "execution_count": 22,
   "id": "201d3c90-7c5d-4417-8792-dcaf6f949b7a",
   "metadata": {},
   "outputs": [
    {
     "data": {
      "image/png": "[encoded data removed]",
      "text/plain": [
       "<Figure size 640x480 with 1 Axes>"
      ]
     },
     "metadata": {},
     "output_type": "display_data"
    }
   ],
   "source": [
    "import matplotlib.pyplot as plt\n",
    "\n",
    "# histogram\n",
    "categories = ['Region', 'Type', 'Name']\n",
    "values = [area, style, name]\n",
    "\n",
    "fig, ax = plt.subplots()\n",
    "bars = ax.bar(categories, values, color=['blue', 'green', 'red'])\n",
    "\n",
    "for bar in bars:\n",
    "    yval = bar.get_height()\n",
    "    plt.text(bar.get_x() + bar.get_width()/2, yval, round(yval, 2), ha='center', va='bottom')\n",
    "\n",
    "plt.title('Region, Type, and Name of Instrument')\n",
    "plt.xlabel('Categories')\n",
    "plt.ylabel('Values (30 totoally)')\n",
    "plt.show()"
   ]
  },
  {
   "cell_type": "markdown",
   "id": "d07c0d7c-01a5-41cf-9093-a50b7c95d6ec",
   "metadata": {},
   "source": [
    "### clothing time dataset ###"
   ]
  },
  {
   "cell_type": "code",
   "execution_count": 23,
   "id": "3bf3039c-a03d-4d04-bb90-0f2f6c3f34a4",
   "metadata": {},
   "outputs": [],
   "source": [
    "# read the data\n",
    "json_file_path1 = \"search_clothing_time.json\"\n",
    "json_file_path2 = \"search_text_clothing_time.json\"\n",
    "image_dict = load_json(json_file_path1)\n",
    "text_dict = load_json(json_file_path2)"
   ]
  },
  {
   "cell_type": "code",
   "execution_count": 24,
   "id": "6120b9d5-2541-48a6-ae09-d2306650053f",
   "metadata": {},
   "outputs": [
    {
     "name": "stdout",
     "output_type": "stream",
     "text": [
      "21\n",
      "4\n"
     ]
    }
   ],
   "source": [
    "print(len(image_dict))\n",
    "print(len(text_dict))"
   ]
  },
  {
   "cell_type": "code",
   "execution_count": 25,
   "id": "4f2828b2-962e-4803-8ee3-412ef613c104",
   "metadata": {},
   "outputs": [],
   "source": [
    "result = dict()\n",
    "\n",
    "image_embeddings = list(image_dict.values())\n",
    "image_embeddings_all = torch.cat([torch.tensor(image_embeddings[i]) for i in range(len(image_embeddings))])\n",
    "\n",
    "for key, value in text_dict.items():\n",
    "    query_embeddings = torch.tensor(value)\n",
    "    scores = torch.softmax(image_embeddings_all @ query_embeddings.T, dim=0)\n",
    "    max_index = torch.argmax(scores)\n",
    "    best_match = list(image_dict.keys())[max_index]\n",
    "    result[key] = best_match"
   ]
  },
  {
   "cell_type": "code",
   "execution_count": 26,
   "id": "d8cab61c-6900-4942-bb1b-1fa16041abca",
   "metadata": {},
   "outputs": [
    {
     "data": {
      "text/plain": [
       "{'a 17th to 19th Century clothing': 'clothing-17thto19thCentury-5.jpg',\n",
       " 'a 20th century clothing': 'clothing-20thCentury-3.jpg',\n",
       " 'an ancient clothing': 'clothing-medieval-2.jpg',\n",
       " 'a medieval clothing': 'clothing-medieval-3.jpg'}"
      ]
     },
     "execution_count": 26,
     "metadata": {},
     "output_type": "execute_result"
    }
   ],
   "source": [
    "result"
   ]
  },
  {
   "cell_type": "code",
   "execution_count": 27,
   "id": "9f813b14-9e99-4ae7-80e1-df7681ec9d76",
   "metadata": {},
   "outputs": [],
   "source": [
    "result_new = dict()\n",
    "\n",
    "image_embeddings = list(image_dict.values())\n",
    "image_embeddings_all = torch.cat([torch.tensor(image_embeddings[i]) for i in range(len(image_embeddings))])\n",
    "\n",
    "for key, value in text_dict.items():\n",
    "    query_embeddings = torch.tensor(value)\n",
    "    scores = torch.softmax(image_embeddings_all @ query_embeddings.T, dim=0)\n",
    "    # Get the indices of the top 3 values\n",
    "    top_indices = torch.topk(scores.flatten(), k=3, dim=0).indices.tolist()\n",
    "    # Get the corresponding image names\n",
    "    best_matches = [list(image_dict.keys())[index] for index in top_indices]\n",
    "    result_new[key] = best_matches"
   ]
  },
  {
   "cell_type": "code",
   "execution_count": 28,
   "id": "9b6103fa-37f6-4860-8b2a-bc2504a13afd",
   "metadata": {},
   "outputs": [
    {
     "data": {
      "text/plain": [
       "{'a 17th to 19th Century clothing': ['clothing-17thto19thCentury-5.jpg',\n",
       "  'clothing-17thto19thCentury-4.jpg',\n",
       "  'clothing-medieval-3.jpg'],\n",
       " 'a 20th century clothing': ['clothing-20thCentury-3.jpg',\n",
       "  'clothing-17thto19thCentury-5.jpg',\n",
       "  'clothing-20thCentury-5.jpg'],\n",
       " 'an ancient clothing': ['clothing-medieval-2.jpg',\n",
       "  'clothing-ancient-1.jpg',\n",
       "  'clothing-ancient-4.jpg'],\n",
       " 'a medieval clothing': ['clothing-medieval-3.jpg',\n",
       "  'clothing-medieval-2.jpg',\n",
       "  'clothing-medieval-6.jpg']}"
      ]
     },
     "execution_count": 28,
     "metadata": {},
     "output_type": "execute_result"
    }
   ],
   "source": [
    "result_new"
   ]
  },
  {
   "cell_type": "markdown",
   "id": "6e689ea6-15d9-4eb4-80fe-3c75cf5eddd3",
   "metadata": {},
   "source": [
    "### area image dataset ###"
   ]
  },
  {
   "cell_type": "code",
   "execution_count": 29,
   "id": "d9ba69b4-8017-4cf8-8150-db3909efe0f6",
   "metadata": {},
   "outputs": [],
   "source": [
    "# read the data\n",
    "json_file_path1 = \"search_area.json\"\n",
    "json_file_path2 = \"search_text_area.json\"\n",
    "image_dict = load_json(json_file_path1)\n",
    "text_dict = load_json(json_file_path2)"
   ]
  },
  {
   "cell_type": "code",
   "execution_count": 30,
   "id": "d29901cb-aae3-445c-87a1-e4b4a459d37a",
   "metadata": {},
   "outputs": [
    {
     "name": "stdout",
     "output_type": "stream",
     "text": [
      "125\n",
      "9\n"
     ]
    }
   ],
   "source": [
    "print(len(image_dict))\n",
    "print(len(text_dict))"
   ]
  },
  {
   "cell_type": "code",
   "execution_count": 31,
   "id": "61d2fff2-13d0-4fc6-95a5-61599e8f1615",
   "metadata": {},
   "outputs": [],
   "source": [
    "result = dict()\n",
    "\n",
    "image_embeddings = list(image_dict.values())\n",
    "image_embeddings_all = torch.cat([torch.tensor(image_embeddings[i]) for i in range(len(image_embeddings))])\n",
    "\n",
    "for key, value in text_dict.items():\n",
    "    query_embeddings = torch.tensor(value)\n",
    "    scores = torch.softmax(image_embeddings_all @ query_embeddings.T, dim=0)\n",
    "    max_index = torch.argmax(scores)\n",
    "    best_match = list(image_dict.keys())[max_index]\n",
    "    result[key] = best_match"
   ]
  },
  {
   "cell_type": "code",
   "execution_count": 32,
   "id": "2c6b9bd8-83f2-40a2-a696-297329b88321",
   "metadata": {},
   "outputs": [
    {
     "data": {
      "text/plain": [
       "{'an African clothing': 'clothing-African-3.jpg',\n",
       " 'an American clothing': 'clothing-European-7.jpg',\n",
       " 'an Asian clothing': 'clothing-Asian-3.jpg',\n",
       " 'an European clothing': 'clothing-European-7.jpg',\n",
       " 'a Middle Eastern clothing': 'clothing-MiddleEastern-2.jpg',\n",
       " 'an American food': 'food-Americas-14.jpg',\n",
       " 'an Asian food': 'food-Asia-8.jpg',\n",
       " 'an European food': 'food-Americas-11.jpg',\n",
       " 'a Middle Eastern food': 'food-MiddleEastern-23.jpg'}"
      ]
     },
     "execution_count": 32,
     "metadata": {},
     "output_type": "execute_result"
    }
   ],
   "source": [
    "result"
   ]
  },
  {
   "cell_type": "code",
   "execution_count": 33,
   "id": "8268aaac-c4f6-4b5a-ac08-c39389fd8956",
   "metadata": {},
   "outputs": [],
   "source": [
    "result_new = dict()\n",
    "\n",
    "image_embeddings = list(image_dict.values())\n",
    "image_embeddings_all = torch.cat([torch.tensor(image_embeddings[i]) for i in range(len(image_embeddings))])\n",
    "\n",
    "for key, value in text_dict.items():\n",
    "    query_embeddings = torch.tensor(value)\n",
    "    scores = torch.softmax(image_embeddings_all @ query_embeddings.T, dim=0)\n",
    "    # Get the indices of the top 3 values\n",
    "    top_indices = torch.topk(scores.flatten(), k=3, dim=0).indices.tolist()\n",
    "    # Get the corresponding image names\n",
    "    best_matches = [list(image_dict.keys())[index] for index in top_indices]\n",
    "    result_new[key] = best_matches"
   ]
  },
  {
   "cell_type": "code",
   "execution_count": 34,
   "id": "75a8b3f9-af83-4ffd-9bf6-de0bfca2b47a",
   "metadata": {},
   "outputs": [
    {
     "data": {
      "text/plain": [
       "{'an African clothing': ['clothing-African-3.jpg',\n",
       "  'clothing-African-5.jpg',\n",
       "  'clothing-African-2.jpg'],\n",
       " 'an American clothing': ['clothing-European-7.jpg',\n",
       "  'clothing-Americas-1.jpg',\n",
       "  'clothing-Americas-7.jpg'],\n",
       " 'an Asian clothing': ['clothing-Asian-3.jpg',\n",
       "  'clothing-Asian-5.jpg',\n",
       "  'clothing-Asian-2.jpg'],\n",
       " 'an European clothing': ['clothing-European-7.jpg',\n",
       "  'clothing-European-2.jpg',\n",
       "  'clothing-European-6.jpg'],\n",
       " 'a Middle Eastern clothing': ['clothing-MiddleEastern-2.jpg',\n",
       "  'clothing-MiddleEastern-4.jpg',\n",
       "  'clothing-MiddleEastern-3.jpg'],\n",
       " 'an American food': ['food-Americas-14.jpg',\n",
       "  'food-Americas-15.jpg',\n",
       "  'food-Americas-22.jpg'],\n",
       " 'an Asian food': ['food-Asia-8.jpg', 'food-Asia-10.jpg', 'food-Asia-19.jpg'],\n",
       " 'an European food': ['food-Americas-11.jpg',\n",
       "  'food-European-16.jpg',\n",
       "  'food-European-1.jpg'],\n",
       " 'a Middle Eastern food': ['food-MiddleEastern-23.jpg',\n",
       "  'food-MiddleEastern-3.jpg',\n",
       "  'food-MiddleEastern-9.jpg']}"
      ]
     },
     "execution_count": 34,
     "metadata": {},
     "output_type": "execute_result"
    }
   ],
   "source": [
    "result_new"
   ]
  },
  {
   "cell_type": "code",
   "execution_count": 35,
   "id": "eb9e6352-a284-4cb7-b03d-0c0d97a22f4e",
   "metadata": {},
   "outputs": [],
   "source": [
    "result_new = dict()\n",
    "\n",
    "image_embeddings = list(image_dict.values())\n",
    "image_embeddings_all = torch.cat([torch.tensor(image_embeddings[i]) for i in range(len(image_embeddings))])\n",
    "\n",
    "for key, value in text_dict.items():\n",
    "    query_embeddings = torch.tensor(value)\n",
    "    scores = torch.softmax(image_embeddings_all @ query_embeddings.T, dim=0)\n",
    "    # Get the indices of the top 5 values\n",
    "    top_indices = torch.topk(scores.flatten(), k=5, dim=0).indices.tolist()\n",
    "    # Get the corresponding image names\n",
    "    best_matches = [list(image_dict.keys())[index] for index in top_indices]\n",
    "    result_new[key] = best_matches"
   ]
  },
  {
   "cell_type": "code",
   "execution_count": 36,
   "id": "c81d6dd8-3e78-4b6d-9145-952864ecb4b5",
   "metadata": {},
   "outputs": [
    {
     "data": {
      "text/plain": [
       "{'an African clothing': ['clothing-African-3.jpg',\n",
       "  'clothing-African-5.jpg',\n",
       "  'clothing-African-2.jpg',\n",
       "  'clothing-African-1.jpg',\n",
       "  'clothing-Asian-6.jpg'],\n",
       " 'an American clothing': ['clothing-European-7.jpg',\n",
       "  'clothing-Americas-1.jpg',\n",
       "  'clothing-Americas-7.jpg',\n",
       "  'clothing-European-2.jpg',\n",
       "  'clothing-Asian-3.jpg'],\n",
       " 'an Asian clothing': ['clothing-Asian-3.jpg',\n",
       "  'clothing-Asian-5.jpg',\n",
       "  'clothing-Asian-2.jpg',\n",
       "  'clothing-MiddleEastern-2.jpg',\n",
       "  'clothing-Asian-4.jpg'],\n",
       " 'an European clothing': ['clothing-European-7.jpg',\n",
       "  'clothing-European-2.jpg',\n",
       "  'clothing-European-6.jpg',\n",
       "  'clothing-European-5.jpg',\n",
       "  'clothing-Asian-3.jpg'],\n",
       " 'a Middle Eastern clothing': ['clothing-MiddleEastern-2.jpg',\n",
       "  'clothing-MiddleEastern-4.jpg',\n",
       "  'clothing-MiddleEastern-3.jpg',\n",
       "  'clothing-Asian-3.jpg',\n",
       "  'clothing-MiddleEastern-1.jpg'],\n",
       " 'an American food': ['food-Americas-14.jpg',\n",
       "  'food-Americas-15.jpg',\n",
       "  'food-Americas-22.jpg',\n",
       "  'food-European-2.jpg',\n",
       "  'food-Americas-5.jpg'],\n",
       " 'an Asian food': ['food-Asia-8.jpg',\n",
       "  'food-Asia-10.jpg',\n",
       "  'food-Asia-19.jpg',\n",
       "  'food-Asia-17.jpg',\n",
       "  'food-Asia-4.jpg'],\n",
       " 'an European food': ['food-Americas-11.jpg',\n",
       "  'food-European-16.jpg',\n",
       "  'food-European-1.jpg',\n",
       "  'food-Asia-10.jpg',\n",
       "  'food-MiddleEastern-13.jpg'],\n",
       " 'a Middle Eastern food': ['food-MiddleEastern-23.jpg',\n",
       "  'food-MiddleEastern-3.jpg',\n",
       "  'food-MiddleEastern-9.jpg',\n",
       "  'food-MiddleEastern-11.jpg',\n",
       "  'food-MiddleEastern-16.jpg']}"
      ]
     },
     "execution_count": 36,
     "metadata": {},
     "output_type": "execute_result"
    }
   ],
   "source": [
    "result_new"
   ]
  },
  {
   "cell_type": "code",
   "execution_count": null,
   "id": "12550731-7ded-4677-a0ea-96ad3d0bbc8e",
   "metadata": {},
   "outputs": [],
   "source": []
  }
 ],
 "metadata": {
  "kernelspec": {
   "display_name": "Python 3 (ipykernel)",
   "language": "python",
   "name": "python3"
  },
  "language_info": {
   "codemirror_mode": {
    "name": "ipython",
    "version": 3
   },
   "file_extension": ".py",
   "mimetype": "text/x-python",
   "name": "python",
   "nbconvert_exporter": "python",
   "pygments_lexer": "ipython3",
   "version": "3.8.18"
  }
 },
 "nbformat": 4,
 "nbformat_minor": 5
}
